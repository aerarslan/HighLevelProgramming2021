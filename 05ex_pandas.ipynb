{
 "cells": [
  {
   "cell_type": "markdown",
   "metadata": {},
   "source": [
    "This exercise consists in analyzing a dataset containg timing information from a series of Time-to-Digital-Converters (TDC) implemented in a pair of FPGAs. Each measurement (i.e. each row of the input file) consists of a flag that specifies the type of message ('HEAD', which in this case is always 1), two addresses of the TDC providing the signal ('FPGA' and 'TDC_CHANNEL'), and the timing information ('ORBIT_CNT', 'BX_COUNTER', and 'TDC_MEAS'). Each TDC count corresponds to 25/30 ns, whereas a unit of BX_COUNTER corresponds to 25 ns, and the ORBIT_CNT is increased every 'x' BX_COUNTER. This allows to store the time in a similar way to hours, minutes and seconds."
   ]
  },
  {
   "cell_type": "code",
<<<<<<< HEAD
   "execution_count": 1,
=======
   "execution_count": null,
>>>>>>> main
   "metadata": {},
   "outputs": [],
   "source": [
    "# If haven't downloaded it yet, please get the data file with wget\n",
    "#!wget https://www.dropbox.com/s/xvjzaxzz3ysphme/data_000637.txt -P ./data/"
   ]
  },
  {
   "cell_type": "markdown",
   "metadata": {},
   "source": [
    "1\\. Create a Pandas DataFrame reading N rows of the `data/data_000637.txt` dataset. Choose N to be smaller than or equal to the maximum number of rows and larger that 10k (check the documentation)."
   ]
  },
  {
   "cell_type": "code",
<<<<<<< HEAD
   "execution_count": 2,
   "metadata": {},
   "outputs": [
    {
     "data": {
      "text/html": [
       "<div>\n",
       "<style scoped>\n",
       "    .dataframe tbody tr th:only-of-type {\n",
       "        vertical-align: middle;\n",
       "    }\n",
       "\n",
       "    .dataframe tbody tr th {\n",
       "        vertical-align: top;\n",
       "    }\n",
       "\n",
       "    .dataframe thead th {\n",
       "        text-align: right;\n",
       "    }\n",
       "</style>\n",
       "<table border=\"1\" class=\"dataframe\">\n",
       "  <thead>\n",
       "    <tr style=\"text-align: right;\">\n",
       "      <th></th>\n",
       "      <th>HEAD</th>\n",
       "      <th>FPGA</th>\n",
       "      <th>TDC_CHANNEL</th>\n",
       "      <th>ORBIT_CNT</th>\n",
       "      <th>BX_COUNTER</th>\n",
       "      <th>TDC_MEAS</th>\n",
       "    </tr>\n",
       "  </thead>\n",
       "  <tbody>\n",
       "    <tr>\n",
       "      <th>0</th>\n",
       "      <td>1</td>\n",
       "      <td>0</td>\n",
       "      <td>123</td>\n",
       "      <td>3869200167</td>\n",
       "      <td>2374</td>\n",
       "      <td>26</td>\n",
       "    </tr>\n",
       "    <tr>\n",
       "      <th>1</th>\n",
       "      <td>1</td>\n",
       "      <td>0</td>\n",
       "      <td>124</td>\n",
       "      <td>3869200167</td>\n",
       "      <td>2374</td>\n",
       "      <td>27</td>\n",
       "    </tr>\n",
       "    <tr>\n",
       "      <th>2</th>\n",
       "      <td>1</td>\n",
       "      <td>0</td>\n",
       "      <td>63</td>\n",
       "      <td>3869200167</td>\n",
       "      <td>2553</td>\n",
       "      <td>28</td>\n",
       "    </tr>\n",
       "    <tr>\n",
       "      <th>3</th>\n",
       "      <td>1</td>\n",
       "      <td>0</td>\n",
       "      <td>64</td>\n",
       "      <td>3869200167</td>\n",
       "      <td>2558</td>\n",
       "      <td>19</td>\n",
       "    </tr>\n",
       "    <tr>\n",
       "      <th>4</th>\n",
       "      <td>1</td>\n",
       "      <td>0</td>\n",
       "      <td>64</td>\n",
       "      <td>3869200167</td>\n",
       "      <td>2760</td>\n",
       "      <td>25</td>\n",
       "    </tr>\n",
       "    <tr>\n",
       "      <th>...</th>\n",
       "      <td>...</td>\n",
       "      <td>...</td>\n",
       "      <td>...</td>\n",
       "      <td>...</td>\n",
       "      <td>...</td>\n",
       "      <td>...</td>\n",
       "    </tr>\n",
       "    <tr>\n",
       "      <th>19995</th>\n",
       "      <td>1</td>\n",
       "      <td>0</td>\n",
       "      <td>27</td>\n",
       "      <td>3869200366</td>\n",
       "      <td>2513</td>\n",
       "      <td>29</td>\n",
       "    </tr>\n",
       "    <tr>\n",
       "      <th>19996</th>\n",
       "      <td>1</td>\n",
       "      <td>0</td>\n",
       "      <td>63</td>\n",
       "      <td>3869200366</td>\n",
       "      <td>2517</td>\n",
       "      <td>6</td>\n",
       "    </tr>\n",
       "    <tr>\n",
       "      <th>19997</th>\n",
       "      <td>1</td>\n",
       "      <td>0</td>\n",
       "      <td>32</td>\n",
       "      <td>3869200366</td>\n",
       "      <td>2519</td>\n",
       "      <td>5</td>\n",
       "    </tr>\n",
       "    <tr>\n",
       "      <th>19998</th>\n",
       "      <td>1</td>\n",
       "      <td>0</td>\n",
       "      <td>17</td>\n",
       "      <td>3869200366</td>\n",
       "      <td>2522</td>\n",
       "      <td>21</td>\n",
       "    </tr>\n",
       "    <tr>\n",
       "      <th>19999</th>\n",
       "      <td>1</td>\n",
       "      <td>0</td>\n",
       "      <td>64</td>\n",
       "      <td>3869200366</td>\n",
       "      <td>2522</td>\n",
       "      <td>0</td>\n",
       "    </tr>\n",
       "  </tbody>\n",
       "</table>\n",
       "<p>20000 rows × 6 columns</p>\n",
       "</div>"
      ],
      "text/plain": [
       "       HEAD  FPGA  TDC_CHANNEL   ORBIT_CNT  BX_COUNTER  TDC_MEAS\n",
       "0         1     0          123  3869200167        2374        26\n",
       "1         1     0          124  3869200167        2374        27\n",
       "2         1     0           63  3869200167        2553        28\n",
       "3         1     0           64  3869200167        2558        19\n",
       "4         1     0           64  3869200167        2760        25\n",
       "...     ...   ...          ...         ...         ...       ...\n",
       "19995     1     0           27  3869200366        2513        29\n",
       "19996     1     0           63  3869200366        2517         6\n",
       "19997     1     0           32  3869200366        2519         5\n",
       "19998     1     0           17  3869200366        2522        21\n",
       "19999     1     0           64  3869200366        2522         0\n",
       "\n",
       "[20000 rows x 6 columns]"
      ]
     },
     "execution_count": 2,
     "metadata": {},
     "output_type": "execute_result"
    }
   ],
   "source": [
    "import pandas as pd\n",
    "\n",
    "nrows = 20000\n",
    "df = pd.read_csv(\"data_000637.txt\", nrows = nrows)\n",
    "df"
   ]
=======
   "execution_count": null,
   "metadata": {},
   "outputs": [],
   "source": []
>>>>>>> main
  },
  {
   "cell_type": "markdown",
   "metadata": {},
   "source": [
    "2\\. Estimate the number of BX in a ORBIT (the value 'x')."
   ]
  },
  {
   "cell_type": "code",
<<<<<<< HEAD
   "execution_count": 3,
   "metadata": {},
   "outputs": [
    {
     "name": "stdout",
     "output_type": "stream",
     "text": [
      "Estimated BX in an ORBIT:  3564\n"
     ]
    }
   ],
   "source": [
    "df_BX = df[\"BX_COUNTER\"]\n",
    "max_BX = max(df_BX)\n",
    "estimated_BX = max_BX + 1\n",
    "print(\"Estimated BX in an ORBIT: \", estimated_BX)"
   ]
=======
   "execution_count": null,
   "metadata": {},
   "outputs": [],
   "source": []
>>>>>>> main
  },
  {
   "cell_type": "markdown",
   "metadata": {},
   "source": [
    "3\\. Find out the duration of the data taking in hours, minutes and seconds. You can either make an estimate based on the fraction of the measurements (rows) you read, or perform this check precisely by reading the whole dataset."
   ]
  },
  {
   "cell_type": "code",
<<<<<<< HEAD
   "execution_count": 4,
   "metadata": {},
   "outputs": [
    {
     "name": "stdout",
     "output_type": "stream",
     "text": [
      "Starting orbit:  3869200167 Starting BX:  2374 Starting TDC:  26\n",
      "Ending orbit:  3869200366 Ending BX:  2522 Ending TDC:  21\n",
      "Total Passed Time:  712948   BX  +   25  TDC\n",
      "Total Passed Time in NS:  17823720.833333332\n",
      "Total Passed Time in seconds:  0.017823720833333334\n"
     ]
    }
   ],
   "source": [
    "df_TDC = df[\"TDC_MEAS\"]\n",
    "estimated_TDC =  max(df_TDC) + 1\n",
    "\n",
    "df_ORBIT = df[\"ORBIT_CNT\"]\n",
    "\n",
    "min_ORBIT = min(df_ORBIT)\n",
    "values_with_min_orbit = df.loc[df['ORBIT_CNT'] == min_ORBIT]\n",
    "min_BX_min_orbit = min(values_with_min_orbit[\"BX_COUNTER\"])\n",
    "values_with_min_bx = values_with_min_orbit.loc[values_with_min_orbit['BX_COUNTER'] == min_BX_min_orbit]\n",
    "min_TDC_min_bx = min(values_with_min_bx[\"TDC_MEAS\"])\n",
    "print(\"Starting orbit: \", min_ORBIT, \"Starting BX: \", min_BX_min_orbit, \"Starting TDC: \", min_TDC_min_bx)\n",
    "\n",
    "\n",
    "max_ORBIT = max(df_ORBIT)\n",
    "values_with_max_orbit = df.loc[df['ORBIT_CNT'] == max_ORBIT]\n",
    "max_BX_max_orbit = max(values_with_max_orbit[\"BX_COUNTER\"])\n",
    "values_with_max_bx = values_with_max_orbit.loc[values_with_max_orbit['BX_COUNTER'] == max_BX_max_orbit]\n",
    "max_TDC_max_bx = max(values_with_max_bx[\"TDC_MEAS\"])\n",
    "print(\"Ending orbit: \", max_ORBIT, \"Ending BX: \", max_BX_max_orbit, \"Ending TDC: \", max_TDC_max_bx)\n",
    "\n",
    "total_bx = (estimated_BX - min_BX_min_orbit) + max_BX_max_orbit + ((max_ORBIT - min_ORBIT)*estimated_BX)\n",
    "fragment_tdc = max_TDC_max_bx + (estimated_TDC - min_TDC_min_bx)\n",
    "print(\"Total Passed Time: \", total_bx, \"  BX  +  \", fragment_tdc, \" TDC\")\n",
    "print(\"Total Passed Time in NS: \", total_bx*25 + fragment_tdc*(25/30))\n",
    "print(\"Total Passed Time in seconds: \", (total_bx*25 + fragment_tdc*(25/30))*1e-9)"
   ]
=======
   "execution_count": null,
   "metadata": {},
   "outputs": [],
   "source": []
>>>>>>> main
  },
  {
   "cell_type": "markdown",
   "metadata": {},
   "source": [
    "4\\. Create a new column with the absolute time in ns (as a combination of the other three columns with timing information) since the beginning of the data acquisition."
   ]
  },
  {
   "cell_type": "code",
<<<<<<< HEAD
   "execution_count": 5,
   "metadata": {},
   "outputs": [
    {
     "data": {
      "text/html": [
       "<div>\n",
       "<style scoped>\n",
       "    .dataframe tbody tr th:only-of-type {\n",
       "        vertical-align: middle;\n",
       "    }\n",
       "\n",
       "    .dataframe tbody tr th {\n",
       "        vertical-align: top;\n",
       "    }\n",
       "\n",
       "    .dataframe thead th {\n",
       "        text-align: right;\n",
       "    }\n",
       "</style>\n",
       "<table border=\"1\" class=\"dataframe\">\n",
       "  <thead>\n",
       "    <tr style=\"text-align: right;\">\n",
       "      <th></th>\n",
       "      <th>HEAD</th>\n",
       "      <th>FPGA</th>\n",
       "      <th>TDC_CHANNEL</th>\n",
       "      <th>ORBIT_CNT</th>\n",
       "      <th>BX_COUNTER</th>\n",
       "      <th>TDC_MEAS</th>\n",
       "      <th>NS_PASSED</th>\n",
       "    </tr>\n",
       "  </thead>\n",
       "  <tbody>\n",
       "    <tr>\n",
       "      <th>0</th>\n",
       "      <td>1</td>\n",
       "      <td>0</td>\n",
       "      <td>123</td>\n",
       "      <td>3869200167</td>\n",
       "      <td>2374</td>\n",
       "      <td>26</td>\n",
       "      <td>0.000000e+00</td>\n",
       "    </tr>\n",
       "    <tr>\n",
       "      <th>1</th>\n",
       "      <td>1</td>\n",
       "      <td>0</td>\n",
       "      <td>124</td>\n",
       "      <td>3869200167</td>\n",
       "      <td>2374</td>\n",
       "      <td>27</td>\n",
       "      <td>8.125000e-01</td>\n",
       "    </tr>\n",
       "    <tr>\n",
       "      <th>2</th>\n",
       "      <td>1</td>\n",
       "      <td>0</td>\n",
       "      <td>63</td>\n",
       "      <td>3869200167</td>\n",
       "      <td>2553</td>\n",
       "      <td>28</td>\n",
       "      <td>4.476625e+03</td>\n",
       "    </tr>\n",
       "    <tr>\n",
       "      <th>3</th>\n",
       "      <td>1</td>\n",
       "      <td>0</td>\n",
       "      <td>64</td>\n",
       "      <td>3869200167</td>\n",
       "      <td>2558</td>\n",
       "      <td>19</td>\n",
       "      <td>4.594125e+03</td>\n",
       "    </tr>\n",
       "    <tr>\n",
       "      <th>4</th>\n",
       "      <td>1</td>\n",
       "      <td>0</td>\n",
       "      <td>64</td>\n",
       "      <td>3869200167</td>\n",
       "      <td>2760</td>\n",
       "      <td>25</td>\n",
       "      <td>9.649125e+03</td>\n",
       "    </tr>\n",
       "    <tr>\n",
       "      <th>...</th>\n",
       "      <td>...</td>\n",
       "      <td>...</td>\n",
       "      <td>...</td>\n",
       "      <td>...</td>\n",
       "      <td>...</td>\n",
       "      <td>...</td>\n",
       "      <td>...</td>\n",
       "    </tr>\n",
       "    <tr>\n",
       "      <th>19995</th>\n",
       "      <td>1</td>\n",
       "      <td>0</td>\n",
       "      <td>27</td>\n",
       "      <td>3869200366</td>\n",
       "      <td>2513</td>\n",
       "      <td>29</td>\n",
       "      <td>1.773438e+07</td>\n",
       "    </tr>\n",
       "    <tr>\n",
       "      <th>19996</th>\n",
       "      <td>1</td>\n",
       "      <td>0</td>\n",
       "      <td>63</td>\n",
       "      <td>3869200366</td>\n",
       "      <td>2517</td>\n",
       "      <td>6</td>\n",
       "      <td>1.773446e+07</td>\n",
       "    </tr>\n",
       "    <tr>\n",
       "      <th>19997</th>\n",
       "      <td>1</td>\n",
       "      <td>0</td>\n",
       "      <td>32</td>\n",
       "      <td>3869200366</td>\n",
       "      <td>2519</td>\n",
       "      <td>5</td>\n",
       "      <td>1.773451e+07</td>\n",
       "    </tr>\n",
       "    <tr>\n",
       "      <th>19998</th>\n",
       "      <td>1</td>\n",
       "      <td>0</td>\n",
       "      <td>17</td>\n",
       "      <td>3869200366</td>\n",
       "      <td>2522</td>\n",
       "      <td>21</td>\n",
       "      <td>1.773460e+07</td>\n",
       "    </tr>\n",
       "    <tr>\n",
       "      <th>19999</th>\n",
       "      <td>1</td>\n",
       "      <td>0</td>\n",
       "      <td>64</td>\n",
       "      <td>3869200366</td>\n",
       "      <td>2522</td>\n",
       "      <td>0</td>\n",
       "      <td>1.773458e+07</td>\n",
       "    </tr>\n",
       "  </tbody>\n",
       "</table>\n",
       "<p>20000 rows × 7 columns</p>\n",
       "</div>"
      ],
      "text/plain": [
       "       HEAD  FPGA  TDC_CHANNEL   ORBIT_CNT  BX_COUNTER  TDC_MEAS     NS_PASSED\n",
       "0         1     0          123  3869200167        2374        26  0.000000e+00\n",
       "1         1     0          124  3869200167        2374        27  8.125000e-01\n",
       "2         1     0           63  3869200167        2553        28  4.476625e+03\n",
       "3         1     0           64  3869200167        2558        19  4.594125e+03\n",
       "4         1     0           64  3869200167        2760        25  9.649125e+03\n",
       "...     ...   ...          ...         ...         ...       ...           ...\n",
       "19995     1     0           27  3869200366        2513        29  1.773438e+07\n",
       "19996     1     0           63  3869200366        2517         6  1.773446e+07\n",
       "19997     1     0           32  3869200366        2519         5  1.773451e+07\n",
       "19998     1     0           17  3869200366        2522        21  1.773460e+07\n",
       "19999     1     0           64  3869200366        2522         0  1.773458e+07\n",
       "\n",
       "[20000 rows x 7 columns]"
      ]
     },
     "execution_count": 5,
     "metadata": {},
     "output_type": "execute_result"
    }
   ],
   "source": [
    "starting_point_ns = (min_ORBIT*estimated_BX + min_BX_min_orbit) * 25 + min_TDC_min_bx * 25/30\n",
    "df['NS_PASSED'] = ((df['ORBIT_CNT']*estimated_BX + df['BX_COUNTER']) * 25 + df['TDC_MEAS']* 25/30) - starting_point_ns\n",
    "df"
   ]
=======
   "execution_count": null,
   "metadata": {},
   "outputs": [],
   "source": []
>>>>>>> main
  },
  {
   "cell_type": "markdown",
   "metadata": {},
   "source": [
    "5\\. Use the `.groupby()` method to find out the noisy channels, i.e. the TDC channels with most counts (print to screen the top 3 and the corresponding counts)"
   ]
  },
  {
   "cell_type": "code",
<<<<<<< HEAD
   "execution_count": 6,
   "metadata": {},
   "outputs": [
    {
     "data": {
      "text/html": [
       "<div>\n",
       "<style scoped>\n",
       "    .dataframe tbody tr th:only-of-type {\n",
       "        vertical-align: middle;\n",
       "    }\n",
       "\n",
       "    .dataframe tbody tr th {\n",
       "        vertical-align: top;\n",
       "    }\n",
       "\n",
       "    .dataframe thead th {\n",
       "        text-align: right;\n",
       "    }\n",
       "</style>\n",
       "<table border=\"1\" class=\"dataframe\">\n",
       "  <thead>\n",
       "    <tr style=\"text-align: right;\">\n",
       "      <th></th>\n",
       "      <th>HEAD</th>\n",
       "      <th>FPGA</th>\n",
       "      <th>ORBIT_CNT</th>\n",
       "      <th>BX_COUNTER</th>\n",
       "      <th>TDC_MEAS</th>\n",
       "      <th>NS_PASSED</th>\n",
       "      <th>TOP</th>\n",
       "    </tr>\n",
       "    <tr>\n",
       "      <th>TDC_CHANNEL</th>\n",
       "      <th></th>\n",
       "      <th></th>\n",
       "      <th></th>\n",
       "      <th></th>\n",
       "      <th></th>\n",
       "      <th></th>\n",
       "      <th></th>\n",
       "    </tr>\n",
       "  </thead>\n",
       "  <tbody>\n",
       "    <tr>\n",
       "      <th>63</th>\n",
       "      <td>969</td>\n",
       "      <td>8</td>\n",
       "      <td>3749255057021</td>\n",
       "      <td>1753201</td>\n",
       "      <td>14389</td>\n",
       "      <td>8.468453e+09</td>\n",
       "      <td>3</td>\n",
       "    </tr>\n",
       "    <tr>\n",
       "      <th>64</th>\n",
       "      <td>996</td>\n",
       "      <td>21</td>\n",
       "      <td>3853723466506</td>\n",
       "      <td>1834885</td>\n",
       "      <td>14512</td>\n",
       "      <td>8.912253e+09</td>\n",
       "      <td>2</td>\n",
       "    </tr>\n",
       "    <tr>\n",
       "      <th>139</th>\n",
       "      <td>1693</td>\n",
       "      <td>522</td>\n",
       "      <td>6550556050500</td>\n",
       "      <td>2991203</td>\n",
       "      <td>0</td>\n",
       "      <td>1.492248e+10</td>\n",
       "      <td>1</td>\n",
       "    </tr>\n",
       "  </tbody>\n",
       "</table>\n",
       "</div>"
      ],
      "text/plain": [
       "             HEAD  FPGA      ORBIT_CNT  BX_COUNTER  TDC_MEAS     NS_PASSED  \\\n",
       "TDC_CHANNEL                                                                  \n",
       "63            969     8  3749255057021     1753201     14389  8.468453e+09   \n",
       "64            996    21  3853723466506     1834885     14512  8.912253e+09   \n",
       "139          1693   522  6550556050500     2991203         0  1.492248e+10   \n",
       "\n",
       "             TOP  \n",
       "TDC_CHANNEL       \n",
       "63             3  \n",
       "64             2  \n",
       "139            1  "
      ]
     },
     "execution_count": 6,
     "metadata": {},
     "output_type": "execute_result"
    }
   ],
   "source": [
    "# heads are \"1\" for every rows, they represents the hits of tdc's. channels are on the left\n",
    "group_tdc = df.groupby('TDC_CHANNEL').sum().sort_values(by = ['HEAD']).iloc[-3:]\n",
    "top = [3, 2, 1]\n",
    "group_tdc['TOP'] = top\n",
    "group_tdc"
   ]
=======
   "execution_count": null,
   "metadata": {},
   "outputs": [],
   "source": []
>>>>>>> main
  },
  {
   "cell_type": "markdown",
   "metadata": {},
   "source": [
    "6\\. Count the number of non-empty orbits (i.e. the number of orbits with at least one hit). Count also the number of unique orbits with at least one measurement from TDC_CHANNEL=139."
   ]
  },
  {
   "cell_type": "code",
<<<<<<< HEAD
   "execution_count": 7,
   "metadata": {},
   "outputs": [
    {
     "name": "stdout",
     "output_type": "stream",
     "text": [
      "Non empty orbits:  200 Empty Orbits:  0\n",
      "Orbits with at least one TDC_CHANNEL 139:  200 Orbits without TDC_CHANNEL 139:  0\n"
     ]
    }
   ],
   "source": [
    "orbits_with_hit = len(df.groupby('ORBIT_CNT').size())\n",
    "print(\"Non empty orbits: \", orbits_with_hit, \"Empty Orbits: \", (max_ORBIT - min_ORBIT) - orbits_with_hit + 1) # all the orbits i read has at least 1 hit\n",
    "\n",
    "orbits_with_139 = len(df[df['TDC_CHANNEL'] == 139].groupby('ORBIT_CNT').size())\n",
    "print(\"Orbits with at least one TDC_CHANNEL 139: \", orbits_with_139, \"Orbits without TDC_CHANNEL 139: \", (max_ORBIT - min_ORBIT) - orbits_with_139 + 1)"
   ]
=======
   "execution_count": null,
   "metadata": {},
   "outputs": [],
   "source": []
>>>>>>> main
  },
  {
   "cell_type": "markdown",
   "metadata": {},
   "source": [
    "7\\. **Optional:** Make two occupancy plots (one for each FPGA), i.e. plot the number of counts per TDC channel"
   ]
  },
  {
   "cell_type": "code",
<<<<<<< HEAD
   "execution_count": 8,
   "metadata": {},
   "outputs": [
    {
     "data": {
      "text/plain": [
       "<AxesSubplot:title={'center':'FPGA 1'}, xlabel='TDC_CHANNEL'>"
      ]
     },
     "execution_count": 8,
     "metadata": {},
     "output_type": "execute_result"
    },
    {
     "data": {
      "image/png": "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\n",
      "text/plain": [
       "<Figure size 432x288 with 1 Axes>"
      ]
     },
     "metadata": {
      "needs_background": "light"
     },
     "output_type": "display_data"
    },
    {
     "data": {
      "image/png": "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\n",
      "text/plain": [
       "<Figure size 432x288 with 1 Axes>"
      ]
     },
     "metadata": {
      "needs_background": "light"
     },
     "output_type": "display_data"
    }
   ],
   "source": [
    "fpga_0 = df[df['FPGA']== 0].groupby('TDC_CHANNEL').size().reset_index(name='COUNT')\n",
    "fpga_0.plot(x = 'TDC_CHANNEL', y = 'COUNT', title = \"FPGA 0\")\n",
    "\n",
    "fpga_1 = df[df['FPGA']== 1].groupby('TDC_CHANNEL').size().reset_index(name='COUNT')\n",
    "fpga_1.plot(x = 'TDC_CHANNEL', y = 'COUNT', title = \"FPGA 1\")"
   ]
  },
  {
   "cell_type": "code",
=======
>>>>>>> main
   "execution_count": null,
   "metadata": {},
   "outputs": [],
   "source": []
  }
 ],
 "metadata": {
  "kernelspec": {
<<<<<<< HEAD
   "display_name": "Python 3 (ipykernel)",
=======
   "display_name": "Python 3",
>>>>>>> main
   "language": "python",
   "name": "python3"
  },
  "language_info": {
   "codemirror_mode": {
    "name": "ipython",
    "version": 3
   },
   "file_extension": ".py",
   "mimetype": "text/x-python",
   "name": "python",
   "nbconvert_exporter": "python",
   "pygments_lexer": "ipython3",
<<<<<<< HEAD
   "version": "3.7.11"
=======
   "version": "3.8.5"
>>>>>>> main
  }
 },
 "nbformat": 4,
 "nbformat_minor": 2
}

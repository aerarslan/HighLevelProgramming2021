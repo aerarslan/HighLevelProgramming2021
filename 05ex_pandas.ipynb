{
 "cells": [
  {
   "cell_type": "markdown",
   "metadata": {},
   "source": [
    "This exercise consists in analyzing a dataset containg timing information from a series of Time-to-Digital-Converters (TDC) implemented in a pair of FPGAs. Each measurement (i.e. each row of the input file) consists of a flag that specifies the type of message ('HEAD', which in this case is always 1), two addresses of the TDC providing the signal ('FPGA' and 'TDC_CHANNEL'), and the timing information ('ORBIT_CNT', 'BX_COUNTER', and 'TDC_MEAS'). Each TDC count corresponds to 25/30 ns, whereas a unit of BX_COUNTER corresponds to 25 ns, and the ORBIT_CNT is increased every 'x' BX_COUNTER. This allows to store the time in a similar way to hours, minutes and seconds."
   ]
  },
  {
   "cell_type": "code",
   "execution_count": null,
   "metadata": {},
   "outputs": [],
   "source": [
    "# If haven't downloaded it yet, please get the data file with wget\n",
    "#!wget https://www.dropbox.com/s/xvjzaxzz3ysphme/data_000637.txt -P ./data/"
   ]
  },
  {
   "cell_type": "markdown",
   "metadata": {},
   "source": [
    "1\\. Create a Pandas DataFrame reading N rows of the `data/data_000637.txt` dataset. Choose N to be smaller than or equal to the maximum number of rows and larger that 10k (check the documentation)."
   ]
  },
  {
   "cell_type": "code",
   "execution_count": 5,
   "metadata": {},
   "outputs": [
    {
     "name": "stdout",
     "output_type": "stream",
     "text": [
      "   HEAD  FPGA  TDC_CHANNEL   ORBIT_CNT  BX_COUNTER  TDC_MEAS\n",
      "0     1     0          123  3869200167        2374        26\n",
      "1     1     0          124  3869200167        2374        27\n",
      "2     1     0           63  3869200167        2553        28\n",
      "3     1     0           64  3869200167        2558        19\n",
      "4     1     0           64  3869200167        2760        25\n",
      "5     1     0           63  3869200167        2762         4\n",
      "6     1     0           61  3869200167        2772        14\n",
      "7     1     0          139  3869200167        2776         0\n",
      "8     1     0           62  3869200167        2774        21\n",
      "9     1     0           60  3869200167        2788         7\n"
     ]
    }
   ],
   "source": [
    "import pandas as pd\n",
    "\n",
    "nrows = 20000\n",
    "df = pd.read_csv(\"data_000637.txt\", nrows = nrows)\n",
    "print(df[:10])"
   ]
  },
  {
   "cell_type": "markdown",
   "metadata": {},
   "source": [
    "2\\. Estimate the number of BX in a ORBIT (the value 'x')."
   ]
  },
  {
   "cell_type": "code",
   "execution_count": 8,
   "metadata": {},
   "outputs": [
    {
     "name": "stdout",
     "output_type": "stream",
     "text": [
      "\n",
      "\n",
      "First 10 orbits:\n",
      "\n",
      "Orbit  3869200167    TOTAL BX:  124133    Different BX:  43\n",
      "Orbit  3869200168    TOTAL BX:  97201    Different BX:  85\n",
      "Orbit  3869200169    TOTAL BX:  144343    Different BX:  127\n",
      "Orbit  3869200170    TOTAL BX:  217462    Different BX:  98\n",
      "Orbit  3869200171    TOTAL BX:  228822    Different BX:  109\n",
      "Orbit  3869200172    TOTAL BX:  162033    Different BX:  89\n",
      "Orbit  3869200173    TOTAL BX:  153284    Different BX:  88\n",
      "Orbit  3869200174    TOTAL BX:  211070    Different BX:  128\n",
      "Orbit  3869200175    TOTAL BX:  312015    Different BX:  128\n",
      "Orbit  3869200176    TOTAL BX:  148031    Different BX:  51\n",
      "\n",
      "\n",
      "Number of BX of the orbit that has the highest BX:  347968\n"
     ]
    }
   ],
   "source": [
    "orbits = list(set(df[\"ORBIT_CNT\"]))\n",
    "number_BX = []\n",
    "for i in range(len(orbits)):\n",
    "    different_bx = 0\n",
    "    total_bx_in_an_orbit = 0\n",
    "    for j in range(len(df)): \n",
    "        if df[\"ORBIT_CNT\"][j] == orbits[i]:\n",
    "            different_bx += 1\n",
    "            total_bx_in_an_orbit = total_bx_in_an_orbit + df[\"BX_COUNTER\"][j]\n",
    "    number_BX.append([orbits[i], total_bx_in_an_orbit, different_bx])\n",
    "\n",
    "print(\"\\n\\nFirst 10 orbits:\\n\")\n",
    "for i in range(10):\n",
    "    print(\"Orbit \", number_BX[i][0],\"   TOTAL BX: \", number_BX[i][1],  \"   Different BX: \", number_BX[i][2])\n",
    "    \n",
    "BX_Orbits = list(zip(*number_BX))\n",
    "maxBX = max(BX_Orbits[1])\n",
    "print(\"\\n\\nNumber of BX of the orbit that has the highest BX: \", maxBX)"
   ]
  },
  {
   "cell_type": "markdown",
   "metadata": {},
   "source": [
    "3\\. Find out the duration of the data taking in hours, minutes and seconds. You can either make an estimate based on the fraction of the measurements (rows) you read, or perform this check precisely by reading the whole dataset."
   ]
  },
  {
   "cell_type": "code",
   "execution_count": 10,
   "metadata": {},
   "outputs": [
    {
     "name": "stdout",
     "output_type": "stream",
     "text": [
      "firs 10 orbit:\n",
      "\n",
      "ORBIT_CNT: 3869200167 has 124133 BX\n",
      "ORBIT_CNT: 3869200168 has 97201 BX\n",
      "ORBIT_CNT: 3869200169 has 144343 BX\n",
      "ORBIT_CNT: 3869200170 has 217462 BX\n",
      "ORBIT_CNT: 3869200171 has 228822 BX\n",
      "ORBIT_CNT: 3869200172 has 162033 BX\n",
      "ORBIT_CNT: 3869200173 has 153284 BX\n",
      "ORBIT_CNT: 3869200174 has 211070 BX\n",
      "ORBIT_CNT: 3869200175 has 312015 BX\n",
      "ORBIT_CNT: 3869200176 has 148031 BX\n"
     ]
    }
   ],
   "source": [
    "\n",
    "import pandas as pd\n",
    "\n",
    "data = pd.read_csv('data_000637.txt', sep=\",\", nrows = 15000)\n",
    "\n",
    "# 2. Estimate the number of BX in a ORBIT (the value 'x')\n",
    "orbit_cnt = []\n",
    "for i in range(len(data)):\n",
    "    orbit_cnt.append(data[\"ORBIT_CNT\"][i])\n",
    " \n",
    "orbit_cnt = list(set(orbit_cnt))\n",
    "\n",
    "import numpy as np\n",
    "count = 0\n",
    "bx = []\n",
    "result = []\n",
    "for i in range(len(orbit_cnt)):\n",
    "    for j in range(len(data)):\n",
    "        if orbit_cnt[i] == data[\"ORBIT_CNT\"][j]:\n",
    "            bx.append(data[\"BX_COUNTER\"][j])\n",
    "    count = sum(bx)\n",
    "    #print(\"ORBIT_CNT:\",orbit_cnt[i],\"has\",count,\"BX\")\n",
    "    result.append([orbit_cnt[i],count])\n",
    "    count = 0\n",
    "    bx = []\n",
    "\n",
    "result = list(zip(*result))\n",
    "print(\"firs 10 orbit:\\n\")\n",
    "\n",
    "for i in range(10):\n",
    "    print(\"ORBIT_CNT:\",result[0][i],\"has\",result[1][i],\"BX\")"
   ]
  },
  {
   "cell_type": "markdown",
   "metadata": {},
   "source": [
    "4\\. Create a new column with the absolute time in ns (as a combination of the other three columns with timing information) since the beginning of the data acquisition."
   ]
  },
  {
   "cell_type": "code",
   "execution_count": null,
   "metadata": {},
   "outputs": [],
   "source": []
  },
  {
   "cell_type": "markdown",
   "metadata": {},
   "source": [
    "5\\. Use the `.groupby()` method to find out the noisy channels, i.e. the TDC channels with most counts (print to screen the top 3 and the corresponding counts)"
   ]
  },
  {
   "cell_type": "code",
   "execution_count": null,
   "metadata": {},
   "outputs": [],
   "source": []
  },
  {
   "cell_type": "markdown",
   "metadata": {},
   "source": [
    "6\\. Count the number of non-empty orbits (i.e. the number of orbits with at least one hit). Count also the number of unique orbits with at least one measurement from TDC_CHANNEL=139."
   ]
  },
  {
   "cell_type": "code",
   "execution_count": null,
   "metadata": {},
   "outputs": [],
   "source": []
  },
  {
   "cell_type": "markdown",
   "metadata": {},
   "source": [
    "7\\. **Optional:** Make two occupancy plots (one for each FPGA), i.e. plot the number of counts per TDC channel"
   ]
  },
  {
   "cell_type": "code",
   "execution_count": null,
   "metadata": {},
   "outputs": [],
   "source": []
  }
 ],
 "metadata": {
  "kernelspec": {
   "display_name": "Python 3 (ipykernel)",
   "language": "python",
   "name": "python3"
  },
  "language_info": {
   "codemirror_mode": {
    "name": "ipython",
    "version": 3
   },
   "file_extension": ".py",
   "mimetype": "text/x-python",
   "name": "python",
   "nbconvert_exporter": "python",
   "pygments_lexer": "ipython3",
   "version": "3.7.11"
  }
 },
 "nbformat": 4,
 "nbformat_minor": 2
}
